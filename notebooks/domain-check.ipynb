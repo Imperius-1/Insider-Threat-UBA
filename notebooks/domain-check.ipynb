{
 "cells": [
  {
   "cell_type": "code",
   "execution_count": 1,
   "id": "ffcb6ccc-1155-4e7e-a50c-f1fd98a8815e",
   "metadata": {},
   "outputs": [
    {
     "name": "stdout",
     "output_type": "stream",
     "text": [
      "Top 10 most common domains:\n",
      "domain\n",
      "dtaa.com         7144273\n",
      "juno.com          285950\n",
      "verizon.net       284536\n",
      "msn.com           276544\n",
      "charter.net       269631\n",
      "gmail.com         267262\n",
      "sbcglobal.net     266414\n",
      "netzero.com       261920\n",
      "aol.com           258604\n",
      "hotmail.com       250126\n",
      "Name: count, dtype: int64\n"
     ]
    }
   ],
   "source": [
    "import pandas as pd\n",
    "\n",
    "# Assuming you have the email.csv file loaded as 'email_df'\n",
    "email = pd.read_csv('../data/email.csv')\n",
    "\n",
    "# Extract the domain from the 'from' email addresses\n",
    "email['domain'] = email['from'].apply(lambda x: x.split('@')[1])\n",
    "\n",
    "# Count the frequency of each domain\n",
    "domain_counts = email['domain'].value_counts()\n",
    "\n",
    "print(\"Top 10 most common domains:\")\n",
    "print(domain_counts.head(10))"
   ]
  },
  {
   "cell_type": "code",
   "execution_count": null,
   "id": "0ae6f7f3-af01-495c-886e-8a39aac8475f",
   "metadata": {},
   "outputs": [],
   "source": []
  }
 ],
 "metadata": {
  "kernelspec": {
   "display_name": "Python 3 (ipykernel)",
   "language": "python",
   "name": "python3"
  },
  "language_info": {
   "codemirror_mode": {
    "name": "ipython",
    "version": 3
   },
   "file_extension": ".py",
   "mimetype": "text/x-python",
   "name": "python",
   "nbconvert_exporter": "python",
   "pygments_lexer": "ipython3",
   "version": "3.13.5"
  }
 },
 "nbformat": 4,
 "nbformat_minor": 5
}
