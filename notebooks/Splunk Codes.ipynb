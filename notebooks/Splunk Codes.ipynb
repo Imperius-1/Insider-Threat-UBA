{
 "cells": [
  {
   "cell_type": "markdown",
   "id": "7ded0c02-e803-49d9-9b8c-128eb581613d",
   "metadata": {},
   "source": [
    "## Search query After-hours login activity in Splunk"
   ]
  },
  {
   "cell_type": "code",
   "execution_count": null,
   "id": "d1a8f1d0-434d-450e-9f28-c0bf2745b8f0",
   "metadata": {},
   "outputs": [],
   "source": [
    "sourcetype=\"cert logon\"\n",
    "| eval logon_hour = strftime(_time, \"%H\")\n",
    "| where (logon_hour > 17 OR logon_hour < 9)\n",
    "| stats count by user\n",
    "| where count > 0\n",
    "l table user, count"
   ]
  },
  {
   "cell_type": "markdown",
   "id": "cbf3d5d7-830b-46d9-95fa-8a7a5ffc7cfd",
   "metadata": {},
   "source": [
    "## Search query for High Volume E-mail activity without Attachments in Splunk"
   ]
  },
  {
   "cell_type": "code",
   "execution_count": null,
   "id": "3b85386b-5e09-4aa8-aa6d-04cd93480336",
   "metadata": {},
   "outputs": [],
   "source": [
    "sourcetype=\"cert email\" earliest =- 30d\n",
    "| stats count by user\n",
    "| eventstats avg(count) as avg_count, stdev(count) as stdev_count\n",
    "| where count > (avg_count + 2 * stdev_count)\n",
    "| table user, count, avg_count, stdev_count"
   ]
  },
  {
   "cell_type": "markdown",
   "id": "67a581b7-d29a-491b-ad0b-2872c4238ded",
   "metadata": {},
   "source": [
    "## Search query for High Volume E-mail activity with Attachments in Splunk"
   ]
  },
  {
   "cell_type": "code",
   "execution_count": null,
   "id": "27a1ad00-130c-4591-a970-874534ee1715",
   "metadata": {},
   "outputs": [],
   "source": [
    "sourcetype=\"cert email\" attachments=\"*\" earliest =- 30d\n",
    "| stats count by user\n",
    "| eventstats avg(count) as avg_count, stdev(count) as stdev_count\n",
    "| where count > (avg_count + 2 * stdev_count)\n",
    "| table user, count, avg_count"
   ]
  },
  {
   "cell_type": "markdown",
   "id": "8c7aece5-1e54-4c2d-9ff9-bbe54d534974",
   "metadata": {},
   "source": [
    "## Search query for mail to external domain activity in Splunk"
   ]
  },
  {
   "cell_type": "code",
   "execution_count": null,
   "id": "013a5e55-c23d-4d7c-b63a-feb557385ae4",
   "metadata": {},
   "outputs": [],
   "source": [
    "sourcetype=\"cert email\"\n",
    "| where NOT match(to, \"dtaa.com\")\n",
    "| stats count by user\n",
    "| table user, count"
   ]
  },
  {
   "cell_type": "markdown",
   "id": "a6c6329b-4ce8-476c-a449-b1f5bf79b6ac",
   "metadata": {},
   "source": [
    "## Search query for external device insertion activity in Splunk"
   ]
  },
  {
   "cell_type": "code",
   "execution_count": null,
   "id": "12521820-2148-42d6-9b95-95c6c15be7e9",
   "metadata": {},
   "outputs": [],
   "source": [
    "sourcetype=\"cert device\" activity=\"Connect\" earliest =- 90d\n",
    "| stats count by user, pc\n",
    "| where count > 0\n",
    "| table user, pc, count\n",
    "\n"
   ]
  },
  {
   "cell_type": "markdown",
   "id": "59f34c2b-ad61-4cc7-8e10-0cd0e9c64b73",
   "metadata": {},
   "source": [
    "## Search query for Unusual file access in Splunk"
   ]
  },
  {
   "cell_type": "code",
   "execution_count": null,
   "id": "4a537ea4-522a-4a16-b187-8965b0b3b268",
   "metadata": {},
   "outputs": [],
   "source": [
    "sourcetype=\"cert device\" activity=\"Connect\" earliest =- 90d\n",
    "| stats count by user, pc\n",
    "| where count > 0\n",
    "| table user, pc, count"
   ]
  }
 ],
 "metadata": {
  "kernelspec": {
   "display_name": "Python 3 (ipykernel)",
   "language": "python",
   "name": "python3"
  },
  "language_info": {
   "codemirror_mode": {
    "name": "ipython",
    "version": 3
   },
   "file_extension": ".py",
   "mimetype": "text/x-python",
   "name": "python",
   "nbconvert_exporter": "python",
   "pygments_lexer": "ipython3",
   "version": "3.13.5"
  }
 },
 "nbformat": 4,
 "nbformat_minor": 5
}
